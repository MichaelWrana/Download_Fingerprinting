{
 "cells": [
  {
   "cell_type": "code",
   "execution_count": 49,
   "id": "5c6acf88",
   "metadata": {},
   "outputs": [],
   "source": [
    "from scapy.all import *\n",
    "from scapy.utils import RawPcapReader\n",
    "from sklearn.model_selection import train_test_split\n",
    "from tqdm import tqdm\n",
    "\n",
    "\n",
    "import numpy as np\n",
    "import pandas as pd\n",
    "import tensorflow as tf\n",
    "import keras\n",
    "import random, os, sys\n",
    "import glob as glob"
   ]
  },
  {
   "cell_type": "code",
   "execution_count": null,
   "id": "29afb77f",
   "metadata": {},
   "outputs": [
    {
     "name": "stderr",
     "output_type": "stream",
     "text": [
      "5003it [01:15, 66.24it/s]\n"
     ]
    },
    {
     "name": "stdout",
     "output_type": "stream",
     "text": [
      "45000\n",
      "5000\n"
     ]
    }
   ],
   "source": [
    "folder = \"/Users/michaelwrana/Documents/Courses/Asokan_858/Project/data_large/\"\n",
    "\n",
    "x = []\n",
    "y = []\n",
    "for filename in tqdm(glob.iglob(folder + '**', recursive=True)):    \n",
    "    if os.path.isfile(filename):\n",
    "        \n",
    "        # figure out what the label should be based on directory location\n",
    "        # e.g. data/file1/website1 means file 1 downloaded from website 1\n",
    "        file_path = filename.split('/')\n",
    "        file_id = int(file_path[-2][-1])\n",
    "        \n",
    "        # load packets from file\n",
    "        packets = rdpcap(filename)\n",
    "        \n",
    "        # configure sequences\n",
    "        seq_per_file = 10\n",
    "        seq_len = 25\n",
    "        packet_sequences = [0] * seq_per_file\n",
    "        \n",
    "        # select sequences from packets randomly\n",
    "        for i in range(seq_per_file):\n",
    "            start = random.randint(0,len(packets)-seq_len)\n",
    "            packet_sequence = [raw(packets[j]) for j in range(start, start + seq_len)]\n",
    "            packet_sequences[i] = [item for sub_list in packet_sequence for item in sub_list]\n",
    "        \n",
    "        # assign class labels (based on website ID or file ID)\n",
    "        file_y = [file_id-1] * seq_per_file\n",
    "        # file_y = [site_id] * seq_per_file\n",
    "        \n",
    "        # append to final dataset\n",
    "        x = x + packet_sequences\n",
    "        y = y + file_y\n",
    "        \n",
    "        \n",
    "        \n",
    "# pad sequences and convert to numpy array\n",
    "x = tf.keras.preprocessing.sequence.pad_sequences(x)\n",
    "x = np.asarray(x)\n",
    "y = np.asarray(y)\n",
    "x_train, x_test, y_train, y_test = train_test_split(x, y, test_size=0.10, random_state=42)\n",
    "\n",
    "print(len(x_train))\n",
    "print(len(x_test))"
   ]
  },
  {
   "cell_type": "code",
   "execution_count": null,
   "id": "d244ad24",
   "metadata": {},
   "outputs": [],
   "source": [
    "class0_count = 0\n",
    "class1_count = 0\n",
    "for item in y_train:\n",
    "    if item == 0:\n",
    "        class0_count += 1\n",
    "    elif item == 1:\n",
    "        class1_count += 1\n",
    "\n",
    "print(class0_count)\n",
    "print(class1_count)"
   ]
  },
  {
   "cell_type": "code",
   "execution_count": null,
   "id": "8c709dc8",
   "metadata": {},
   "outputs": [],
   "source": [
    "model = tf.keras.models.Sequential([\n",
    "    tf.keras.layers.Dense(128),\n",
    "    tf.keras.layers.Dense(64),\n",
    "    tf.keras.layers.Dense(1)\n",
    "])"
   ]
  },
  {
   "cell_type": "code",
   "execution_count": null,
   "id": "2d47e081",
   "metadata": {},
   "outputs": [],
   "source": [
    "model.compile(optimizer='adam',\n",
    "              loss=tf.keras.losses.BinaryCrossentropy(from_logits=True),\n",
    "              metrics=['accuracy','AUC','Precision','Recall'])"
   ]
  },
  {
   "cell_type": "code",
   "execution_count": null,
   "id": "b053b378",
   "metadata": {},
   "outputs": [],
   "source": [
    "model.fit(x_train, y_train, epochs=6)"
   ]
  },
  {
   "cell_type": "code",
   "execution_count": null,
   "id": "846ada65",
   "metadata": {},
   "outputs": [],
   "source": [
    "results = model.evaluate(x_test, y_test)"
   ]
  },
  {
   "cell_type": "code",
   "execution_count": null,
   "id": "4a34a164",
   "metadata": {},
   "outputs": [],
   "source": []
  }
 ],
 "metadata": {
  "kernelspec": {
   "display_name": "Python 3 (ipykernel)",
   "language": "python",
   "name": "python3"
  },
  "language_info": {
   "codemirror_mode": {
    "name": "ipython",
    "version": 3
   },
   "file_extension": ".py",
   "mimetype": "text/x-python",
   "name": "python",
   "nbconvert_exporter": "python",
   "pygments_lexer": "ipython3",
   "version": "3.9.13"
  }
 },
 "nbformat": 4,
 "nbformat_minor": 5
}
