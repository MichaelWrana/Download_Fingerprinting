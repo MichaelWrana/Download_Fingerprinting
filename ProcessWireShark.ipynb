{
 "cells": [
  {
   "cell_type": "code",
   "execution_count": 1,
   "id": "5c6acf88",
   "metadata": {},
   "outputs": [
    {
     "name": "stderr",
     "output_type": "stream",
     "text": [
      "/Users/michaelwrana/opt/anaconda3/lib/python3.9/site-packages/scapy/layers/ipsec.py:469: CryptographyDeprecationWarning: Blowfish has been deprecated\n",
      "  cipher=algorithms.Blowfish,\n",
      "/Users/michaelwrana/opt/anaconda3/lib/python3.9/site-packages/scapy/layers/ipsec.py:483: CryptographyDeprecationWarning: CAST5 has been deprecated\n",
      "  cipher=algorithms.CAST5,\n",
      "2023-02-22 12:21:09.599800: I tensorflow/core/platform/cpu_feature_guard.cc:193] This TensorFlow binary is optimized with oneAPI Deep Neural Network Library (oneDNN) to use the following CPU instructions in performance-critical operations:  SSE4.1 SSE4.2\n",
      "To enable them in other operations, rebuild TensorFlow with the appropriate compiler flags.\n"
     ]
    }
   ],
   "source": [
    "import numpy as np\n",
    "import pandas as pd\n",
    "from scapy.all import *\n",
    "import random, glob, os, sys\n",
    "\n",
    "import tensorflow as tf\n",
    "import keras"
   ]
  },
  {
   "cell_type": "code",
   "execution_count": 2,
   "id": "29afb77f",
   "metadata": {},
   "outputs": [],
   "source": [
    "folder = \"/Users/michaelwrana/Desktop/data/\"\n",
    "\n",
    "x = []\n",
    "y = []\n",
    "for filename in glob.iglob(folder + '**', recursive=True):\n",
    "    if os.path.isfile(filename):\n",
    "        \n",
    "        # figure out what the label should be based on directory location\n",
    "        # e.g. data/file1/website1 means file 1 downloaded from website 1\n",
    "        file_path = filename.split('/')\n",
    "        site_id = int(file_path[-2][-1])\n",
    "        file_id = int(file_path[-3][-1])\n",
    "        \n",
    "        if(site_id == 1):\n",
    "            continue\n",
    "        \n",
    "        # load packets from file\n",
    "        packets = rdpcap(filename)\n",
    "        \n",
    "        # configure sequences\n",
    "        seq_per_file = 100\n",
    "        seq_len = 5\n",
    "        packet_sequences = [0] * seq_per_file\n",
    "        \n",
    "        # select sequences from packets randomly\n",
    "        for i in range(seq_per_file):\n",
    "            start = random.randint(0,len(packets)-seq_len)\n",
    "            packet_sequence = [raw(packets[j]) for j in range(start, start + seq_len)]\n",
    "            packet_sequences[i] = [item for sub_list in packet_sequence for item in sub_list]\n",
    "        \n",
    "        # assign class labels (based on website ID or file ID)\n",
    "        file_y = [file_id] * seq_per_file\n",
    "        # file_y = [site_id] * seq_per_file\n",
    "        \n",
    "        # append to final dataset\n",
    "        x = x + packet_sequences\n",
    "        y = y + file_y\n",
    "        \n",
    "        \n",
    "# pad sequences and convert to numpy array\n",
    "x = tf.keras.preprocessing.sequence.pad_sequences(x, maxlen=1000)\n",
    "x = np.asarray(x)\n",
    "y = np.asarray(y)"
   ]
  },
  {
   "cell_type": "code",
   "execution_count": 3,
   "id": "8c709dc8",
   "metadata": {},
   "outputs": [
    {
     "name": "stderr",
     "output_type": "stream",
     "text": [
      "2023-02-22 12:21:19.572637: I tensorflow/core/platform/cpu_feature_guard.cc:193] This TensorFlow binary is optimized with oneAPI Deep Neural Network Library (oneDNN) to use the following CPU instructions in performance-critical operations:  SSE4.1 SSE4.2\n",
      "To enable them in other operations, rebuild TensorFlow with the appropriate compiler flags.\n"
     ]
    }
   ],
   "source": [
    "model = tf.keras.models.Sequential([\n",
    "  tf.keras.layers.Dense(128, activation='relu'),\n",
    "  tf.keras.layers.Dropout(0.2),\n",
    "  tf.keras.layers.Dense(10)\n",
    "])"
   ]
  },
  {
   "cell_type": "code",
   "execution_count": 4,
   "id": "2d47e081",
   "metadata": {},
   "outputs": [],
   "source": [
    "model.compile(optimizer='adam',\n",
    "              loss=tf.keras.losses.SparseCategoricalCrossentropy(from_logits=True),\n",
    "              metrics=['accuracy'])"
   ]
  },
  {
   "cell_type": "code",
   "execution_count": 5,
   "id": "b053b378",
   "metadata": {},
   "outputs": [
    {
     "name": "stdout",
     "output_type": "stream",
     "text": [
      "Epoch 1/45\n",
      "625/625 [==============================] - 1s 1ms/step - loss: 5.9817 - accuracy: 0.5206\n",
      "Epoch 2/45\n",
      "625/625 [==============================] - 1s 989us/step - loss: 0.7085 - accuracy: 0.5238\n",
      "Epoch 3/45\n",
      "625/625 [==============================] - 1s 991us/step - loss: 0.6964 - accuracy: 0.5427\n",
      "Epoch 4/45\n",
      "625/625 [==============================] - 1s 991us/step - loss: 0.6899 - accuracy: 0.5522\n",
      "Epoch 5/45\n",
      "625/625 [==============================] - 1s 994us/step - loss: 0.6993 - accuracy: 0.5517\n",
      "Epoch 6/45\n",
      "625/625 [==============================] - 1s 996us/step - loss: 0.7109 - accuracy: 0.5522\n",
      "Epoch 7/45\n",
      "625/625 [==============================] - 1s 994us/step - loss: 0.6857 - accuracy: 0.5727\n",
      "Epoch 8/45\n",
      "625/625 [==============================] - 1s 991us/step - loss: 0.6788 - accuracy: 0.5717\n",
      "Epoch 9/45\n",
      "625/625 [==============================] - 1s 997us/step - loss: 0.6633 - accuracy: 0.5829\n",
      "Epoch 10/45\n",
      "625/625 [==============================] - 1s 997us/step - loss: 0.6660 - accuracy: 0.5854\n",
      "Epoch 11/45\n",
      "625/625 [==============================] - 1s 981us/step - loss: 0.6673 - accuracy: 0.5857\n",
      "Epoch 12/45\n",
      "625/625 [==============================] - 1s 993us/step - loss: 0.6280 - accuracy: 0.6180\n",
      "Epoch 13/45\n",
      "625/625 [==============================] - 1s 989us/step - loss: 0.6030 - accuracy: 0.6472\n",
      "Epoch 14/45\n",
      "625/625 [==============================] - 1s 988us/step - loss: 0.5973 - accuracy: 0.6768\n",
      "Epoch 15/45\n",
      "625/625 [==============================] - 1s 991us/step - loss: 0.5811 - accuracy: 0.6751\n",
      "Epoch 16/45\n",
      "625/625 [==============================] - 1s 995us/step - loss: 0.5596 - accuracy: 0.6938\n",
      "Epoch 17/45\n",
      "625/625 [==============================] - 1s 992us/step - loss: 0.5540 - accuracy: 0.6912\n",
      "Epoch 18/45\n",
      "625/625 [==============================] - 1s 997us/step - loss: 0.5327 - accuracy: 0.7158\n",
      "Epoch 19/45\n",
      "625/625 [==============================] - 1s 990us/step - loss: 0.5225 - accuracy: 0.7216\n",
      "Epoch 20/45\n",
      "625/625 [==============================] - 1s 1ms/step - loss: 0.5199 - accuracy: 0.7212\n",
      "Epoch 21/45\n",
      "625/625 [==============================] - 1s 1ms/step - loss: 0.5099 - accuracy: 0.7270\n",
      "Epoch 22/45\n",
      "625/625 [==============================] - 1s 1ms/step - loss: 0.4979 - accuracy: 0.7372\n",
      "Epoch 23/45\n",
      "625/625 [==============================] - 1s 1ms/step - loss: 0.4974 - accuracy: 0.7364\n",
      "Epoch 24/45\n",
      "625/625 [==============================] - 1s 1ms/step - loss: 0.4918 - accuracy: 0.7419\n",
      "Epoch 25/45\n",
      "625/625 [==============================] - 1s 1ms/step - loss: 0.5169 - accuracy: 0.7150\n",
      "Epoch 26/45\n",
      "625/625 [==============================] - 1s 1ms/step - loss: 0.4887 - accuracy: 0.7434\n",
      "Epoch 27/45\n",
      "625/625 [==============================] - 1s 1ms/step - loss: 0.4811 - accuracy: 0.7472\n",
      "Epoch 28/45\n",
      "625/625 [==============================] - 1s 1ms/step - loss: 0.4976 - accuracy: 0.7321\n",
      "Epoch 29/45\n",
      "625/625 [==============================] - 1s 1ms/step - loss: 0.4726 - accuracy: 0.7530\n",
      "Epoch 30/45\n",
      "625/625 [==============================] - 1s 1ms/step - loss: 0.4749 - accuracy: 0.7502\n",
      "Epoch 31/45\n",
      "625/625 [==============================] - 1s 1ms/step - loss: 0.4768 - accuracy: 0.7501\n",
      "Epoch 32/45\n",
      "625/625 [==============================] - 1s 1ms/step - loss: 0.4685 - accuracy: 0.7549\n",
      "Epoch 33/45\n",
      "625/625 [==============================] - 1s 1ms/step - loss: 0.4803 - accuracy: 0.7567\n",
      "Epoch 34/45\n",
      "625/625 [==============================] - 1s 1ms/step - loss: 0.4738 - accuracy: 0.7502\n",
      "Epoch 35/45\n",
      "625/625 [==============================] - 1s 1ms/step - loss: 0.4632 - accuracy: 0.7591\n",
      "Epoch 36/45\n",
      "625/625 [==============================] - 1s 1ms/step - loss: 0.4587 - accuracy: 0.7655\n",
      "Epoch 37/45\n",
      "625/625 [==============================] - 1s 1ms/step - loss: 0.4689 - accuracy: 0.7515\n",
      "Epoch 38/45\n",
      "625/625 [==============================] - 1s 1ms/step - loss: 0.4716 - accuracy: 0.7547\n",
      "Epoch 39/45\n",
      "625/625 [==============================] - 1s 1ms/step - loss: 0.4546 - accuracy: 0.7624\n",
      "Epoch 40/45\n",
      "625/625 [==============================] - 1s 1ms/step - loss: 0.4705 - accuracy: 0.7574\n",
      "Epoch 41/45\n",
      "625/625 [==============================] - 1s 1ms/step - loss: 0.4556 - accuracy: 0.7596\n",
      "Epoch 42/45\n",
      "625/625 [==============================] - 1s 1ms/step - loss: 0.4539 - accuracy: 0.7674\n",
      "Epoch 43/45\n",
      "625/625 [==============================] - 1s 1ms/step - loss: 0.4533 - accuracy: 0.7581\n",
      "Epoch 44/45\n",
      "625/625 [==============================] - 1s 1ms/step - loss: 0.4514 - accuracy: 0.7616\n",
      "Epoch 45/45\n",
      "625/625 [==============================] - 1s 1ms/step - loss: 0.4534 - accuracy: 0.7604\n"
     ]
    },
    {
     "data": {
      "text/plain": [
       "<keras.callbacks.History at 0x7f7c53f1d220>"
      ]
     },
     "execution_count": 5,
     "metadata": {},
     "output_type": "execute_result"
    }
   ],
   "source": [
    "model.fit(x, y, epochs=45)"
   ]
  },
  {
   "cell_type": "code",
   "execution_count": null,
   "id": "846ada65",
   "metadata": {},
   "outputs": [],
   "source": []
  }
 ],
 "metadata": {
  "kernelspec": {
   "display_name": "Python 3 (ipykernel)",
   "language": "python",
   "name": "python3"
  },
  "language_info": {
   "codemirror_mode": {
    "name": "ipython",
    "version": 3
   },
   "file_extension": ".py",
   "mimetype": "text/x-python",
   "name": "python",
   "nbconvert_exporter": "python",
   "pygments_lexer": "ipython3",
   "version": "3.9.13"
  }
 },
 "nbformat": 4,
 "nbformat_minor": 5
}
