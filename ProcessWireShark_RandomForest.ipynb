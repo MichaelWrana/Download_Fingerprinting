{
 "cells": [
  {
   "cell_type": "code",
   "execution_count": 3,
   "id": "0b0257c9",
   "metadata": {},
   "outputs": [],
   "source": [
    "import numpy as np\n",
    "import pandas as pd\n",
    "from scapy.all import *\n",
    "import random, glob, os, sys\n",
    "from sklearn.model_selection import train_test_split\n",
    "from sklearn.ensemble import RandomForestClassifier\n",
    "from sklearn.metrics import classification_report\n",
    "from tqdm import tqdm\n",
    "\n",
    "import tensorflow as tf\n",
    "import keras"
   ]
  },
  {
   "cell_type": "code",
   "execution_count": 4,
   "id": "76569eab",
   "metadata": {},
   "outputs": [
    {
     "name": "stderr",
     "output_type": "stream",
     "text": [
      "5003it [00:47, 104.38it/s]\n"
     ]
    }
   ],
   "source": [
    "folder = \"/Users/michaelwrana/Documents/Courses/Asokan_858/Project/data_large/\"\n",
    "\n",
    "# top 10 features according to https://www.usenix.org/system/files/conference/usenixsecurity16/sec16_paper_hayes.pdf\n",
    "feature_names = ['incoming_packets', 'outgoing_proportion', 'incoming_proportion', \n",
    "                 'packet_ordering_stdev', 'outgoing_packets', 'alternative_concentration_sum'\n",
    "                 'outgoing_ordering_sum','sum_all','alternative_persecond_sum',\n",
    "                 'total_packets']\n",
    "# class label names\n",
    "label_names = ['file1','file2']\n",
    "\n",
    "x = []\n",
    "y = []\n",
    "for filename in tqdm(glob.iglob(folder + '**', recursive=True), total=5000):\n",
    "    if os.path.isfile(filename):\n",
    "        \n",
    "        # figure out what the label should be based on directory location\n",
    "        # e.g. data/file1/website1 means file 1 downloaded from website 1\n",
    "        file_path = filename.split('/')\n",
    "        file_id = int(file_path[-2][-1])\n",
    "        \n",
    "        features = dict()\n",
    "        \n",
    "        # incoming/outgoing packet counts\n",
    "        incoming_count = 0\n",
    "        outgoing_count = 0\n",
    "        packet_count = 0\n",
    "        # count of previous outgoing packets.  reset when incoming packet arrives\n",
    "        order_count = 0\n",
    "        outgoing_order = []\n",
    "        # packet timestamps\n",
    "        timestamps = []\n",
    "        \n",
    "        for (pkt_data, pkt_metadata) in RawPcapReader(filename):\n",
    "            ether_pkt = Ether(pkt_data)\n",
    "            \n",
    "            # if it is a non-ip packet (i.e. ARP background noise) do not process\n",
    "            try:\n",
    "                ip_pkt = ether_pkt[IP]\n",
    "            except IndexError:\n",
    "                pass\n",
    "            \n",
    "            # outgoing packet (192.168.*.())\n",
    "            if(ip_pkt.src[0:3] == '192'):\n",
    "                outgoing_count += 1\n",
    "                \n",
    "                # if the previous packet was also outgoing, append to the list\n",
    "                if(order_count >= 0):\n",
    "                    outgoing_order.append(order_count)\n",
    "                \n",
    "                # this packet is outgoing, increment counter\n",
    "                order_count += 1\n",
    "            else:\n",
    "                incoming_count += 1\n",
    "                \n",
    "                # this packet is incoming\n",
    "                order_count = 0\n",
    "            packet_count +=1\n",
    "        \n",
    "        # get timestamps\n",
    "        # cant do in above loop because it extracts current UNIX timestamp (not sure why)\n",
    "        for packet in rdpcap(filename):\n",
    "            timestamps.append(packet.time)\n",
    "        \n",
    "        features['incoming_packets'] = incoming_count\n",
    "        features['outgoing_proportion'] = outgoing_count / packet_count\n",
    "        features['incoming_proportion'] = incoming_count / packet_count\n",
    "        features['outgoing_ordering_stdev'] = np.std(outgoing_order)\n",
    "        features['outgoing_packets'] = outgoing_count\n",
    "        # not possible with small size of transmission\n",
    "        #features['alternative_concentration_sum'] = 0 # TODO\n",
    "        features['outgoing_ordering_average'] = np.average(outgoing_order)\n",
    "        features[\"sum_all\"] = incoming_count + outgoing_count + packet_count\n",
    "        # alternative persecond sum not possible - used packets per second instead\n",
    "        features[\"packet_speed\"] = float(len(timestamps) / (timestamps[-1] - timestamps[0]))\n",
    "        features['total_packets'] = packet_count\n",
    "        \n",
    "        feature_val = list(features.values())\n",
    "        \n",
    "        # append to final dataset\n",
    "        x = x + [feature_val]\n",
    "        y = y + [file_id-1]\n",
    "        \n"
   ]
  },
  {
   "cell_type": "code",
   "execution_count": null,
   "id": "c38f87e8",
   "metadata": {},
   "outputs": [],
   "source": [
    "# convert to numpy array and split into training/testing\n",
    "x = np.asarray(x)\n",
    "y = np.asarray(y)\n",
    "x_train, x_test, y_train, y_test = train_test_split(x, y, test_size=0.10, random_state=42)"
   ]
  },
  {
   "cell_type": "code",
   "execution_count": 5,
   "id": "57def138",
   "metadata": {},
   "outputs": [
    {
     "data": {
      "text/plain": [
       "RandomForestClassifier(max_depth=2)"
      ]
     },
     "execution_count": 5,
     "metadata": {},
     "output_type": "execute_result"
    }
   ],
   "source": [
    "model = RandomForestClassifier(max_depth = 2)\n",
    "model.fit(x_train,y_train)"
   ]
  },
  {
   "cell_type": "code",
   "execution_count": 6,
   "id": "65c8dbe8",
   "metadata": {},
   "outputs": [
    {
     "name": "stdout",
     "output_type": "stream",
     "text": [
      "              precision    recall  f1-score   support\n",
      "\n",
      "           0       0.51      0.73      0.60       237\n",
      "           1       0.60      0.36      0.45       263\n",
      "\n",
      "    accuracy                           0.54       500\n",
      "   macro avg       0.56      0.55      0.53       500\n",
      "weighted avg       0.56      0.54      0.52       500\n",
      "\n"
     ]
    }
   ],
   "source": [
    "y_pred = model.predict(x_test)\n",
    "\n",
    "print(classification_report(y_test, y_pred))"
   ]
  },
  {
   "cell_type": "code",
   "execution_count": null,
   "id": "2d660738",
   "metadata": {},
   "outputs": [],
   "source": []
  }
 ],
 "metadata": {
  "kernelspec": {
   "display_name": "Python 3 (ipykernel)",
   "language": "python",
   "name": "python3"
  },
  "language_info": {
   "codemirror_mode": {
    "name": "ipython",
    "version": 3
   },
   "file_extension": ".py",
   "mimetype": "text/x-python",
   "name": "python",
   "nbconvert_exporter": "python",
   "pygments_lexer": "ipython3",
   "version": "3.9.13"
  }
 },
 "nbformat": 4,
 "nbformat_minor": 5
}
